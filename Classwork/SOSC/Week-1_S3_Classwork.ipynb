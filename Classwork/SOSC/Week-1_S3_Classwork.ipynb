{
 "cells": [
  {
   "cell_type": "markdown",
   "metadata": {},
   "source": []
  },
  {
   "cell_type": "code",
   "execution_count": null,
   "metadata": {},
   "outputs": [],
   "source": []
  },
  {
   "cell_type": "code",
   "execution_count": null,
   "metadata": {},
   "outputs": [],
   "source": []
  },
  {
   "cell_type": "markdown",
   "metadata": {},
   "source": [
    "### <> Ask user for the radius of circle and store that value in variables. Then calculate the area of circle and also the print the result on screen.\n",
    "\n",
    "$$ Area\\,of\\,Circle = \\pi\\,r^2$$"
   ]
  },
  {
   "cell_type": "code",
   "execution_count": 5,
   "metadata": {},
   "outputs": [],
   "source": [
    "import math as math"
   ]
  },
  {
   "cell_type": "code",
   "execution_count": 6,
   "metadata": {},
   "outputs": [
    {
     "name": "stdout",
     "output_type": "stream",
     "text": [
      "3\n",
      "The area of circle is 28.274333882308138\n"
     ]
    }
   ],
   "source": [
    "Radius = int(input())\n",
    "Area  = math.pi*Radius**2\n",
    "print('The area of circle is', Area )"
   ]
  },
  {
   "cell_type": "code",
   "execution_count": 7,
   "metadata": {},
   "outputs": [
    {
     "name": "stdout",
     "output_type": "stream",
     "text": [
      "2.3\n",
      "The area of circle is 16.619025137490002\n"
     ]
    }
   ],
   "source": [
    "Radius = float(input())\n",
    "Area  = math.pi*Radius**2\n",
    "print('The area of circle is', Area )"
   ]
  },
  {
   "cell_type": "code",
   "execution_count": 23,
   "metadata": {},
   "outputs": [],
   "source": [
    "from math import *"
   ]
  },
  {
   "cell_type": "code",
   "execution_count": 26,
   "metadata": {},
   "outputs": [
    {
     "name": "stdout",
     "output_type": "stream",
     "text": [
      "enter the radius of circle = 5.5\n",
      "the area of circle is 95.03317777109125\n"
     ]
    }
   ],
   "source": [
    "r = input('enter the radius of circle = ' )\n",
    "if floor(float(r))==float(r):\n",
    "    r=int(r)\n",
    "    \n",
    "else:\n",
    "     r=float(r)\n",
    "        \n",
    "area = math.pi*r**2\n",
    "        \n",
    "print('the area of circle is',area)"
   ]
  },
  {
   "cell_type": "markdown",
   "metadata": {},
   "source": [
    "### <> Ask user for the height and base of triangle and store those values in variables. Then calculate the area of triangle and also the print the result on screen.\n",
    "\n",
    "$$ Area\\,of\\,triangle = \\frac{1}{2}x\\,base\\,x\\,height$$"
   ]
  },
  {
   "cell_type": "code",
   "execution_count": null,
   "metadata": {},
   "outputs": [],
   "source": [
    "import math as math"
   ]
  },
  {
   "cell_type": "code",
   "execution_count": 6,
   "metadata": {},
   "outputs": [
    {
     "name": "stdout",
     "output_type": "stream",
     "text": [
      "6\n",
      "6\n",
      "The area of triangle is 18.0\n"
     ]
    }
   ],
   "source": [
    "height = int(input())\n",
    "base = int(input())\n",
    "area = 1/2*base*height\n",
    "print('The area of triangle is',area)"
   ]
  },
  {
   "cell_type": "code",
   "execution_count": 9,
   "metadata": {},
   "outputs": [
    {
     "name": "stdout",
     "output_type": "stream",
     "text": [
      "The height of triangle is = 2.3\n",
      "The base of triangle is = 4\n",
      "the area of triangle is  4.6\n"
     ]
    }
   ],
   "source": [
    "from math import *\n",
    "h = input('The height of triangle is = ')\n",
    "b = input('The base of triangle is = ')\n",
    "if floor(float(h))==float(h) and floor(float(b))==float(b):\n",
    "    h=int(h) \n",
    "    b=int(b)\n",
    "    \n",
    "else:\n",
    "    h = float(h)\n",
    "    b = float(b)\n",
    "    \n",
    "area = 1/2*h*b\n",
    "area=round(area,2) # for rounding up the decimal values\n",
    "print('the area of triangle is ',area)\n",
    "    "
   ]
  },
  {
   "cell_type": "markdown",
   "metadata": {},
   "source": [
    "### <> Write a program that asks user for their personal information and then print a bio for that user?\n",
    "\n",
    "For example ask user for their name, age, place he/she live etc. and then print bio like \n",
    "\n",
    "Hi!! my name is *user_name*. I'm *25 years* old. I live in *nepalgunj*. \n",
    "\n",
    "(you can be creative with bio)"
   ]
  },
  {
   "cell_type": "code",
   "execution_count": null,
   "metadata": {},
   "outputs": [],
   "source": [
    "import "
   ]
  },
  {
   "cell_type": "code",
   "execution_count": 29,
   "metadata": {},
   "outputs": [
    {
     "name": "stdout",
     "output_type": "stream",
     "text": [
      "sushma\n",
      "palpa\n",
      "22\n",
      "bachelors\n",
      "trichandra\n",
      "Hello! Sushma\n",
      "You are from Palpa\n",
      "so you are student of Bachelors\n",
      "You are student in Trichandra\n"
     ]
    }
   ],
   "source": [
    "name = input()\n",
    "address = input()\n",
    "age = int(input())\n",
    "grade = input()\n",
    "institution = input()\n",
    "print('Hello!',name.capitalize())\n",
    "print('You are from',address.capitalize())\n",
    "print('so you are student of',grade.capitalize())\n",
    "print('You are student in',institution.capitalize())\n"
   ]
  },
  {
   "cell_type": "code",
   "execution_count": 45,
   "metadata": {},
   "outputs": [
    {
     "name": "stdout",
     "output_type": "stream",
     "text": [
      "Sushma\n",
      "Palpa\n",
      "22\n",
      "bachelors\n",
      "Trichandra\n",
      "Hi Sushma, so you are a 22 year old from Palpa . You study bachelors in Trichandra?\n"
     ]
    }
   ],
   "source": [
    "# use of f string\n",
    "\n",
    "name = input()\n",
    "address = input()\n",
    "age = int(input())\n",
    "grade = input()\n",
    "institution = input()\n",
    "print(f'Hi {name}, so you are a {age} year old from {address} . You study {grade} in {institution}?')"
   ]
  },
  {
   "cell_type": "code",
   "execution_count": 5,
   "metadata": {},
   "outputs": [
    {
     "name": "stdout",
     "output_type": "stream",
     "text": [
      "sushma\n",
      "palpa\n",
      "22\n",
      "bachelors\n",
      "trichandra\n",
      "Hi sushma, so you are a 22 year old from palpa . You study bachelors in trichandra?\n"
     ]
    }
   ],
   "source": [
    "#Use of format\n",
    "\n",
    "name = input()\n",
    "address = input()\n",
    "age = int(input())\n",
    "grade = input()\n",
    "institution = input()\n",
    "print('Hi {0}, so you are a {2} year old from {1} . You study {3} in {4}?'.format(name,address,age,grade,institution))"
   ]
  },
  {
   "cell_type": "markdown",
   "metadata": {},
   "source": [
    "## <> Ask user for the time value in seconds into for x hrs x min and x second.\n",
    "\n",
    "for example 9924 seconds can be expressed as *2 hrs 45 min 24 sec*"
   ]
  },
  {
   "cell_type": "code",
   "execution_count": 42,
   "metadata": {},
   "outputs": [
    {
     "name": "stdout",
     "output_type": "stream",
     "text": [
      "10000\n",
      "10000 is equivalent to 2 hours 46 minutes 40 seconds\n"
     ]
    }
   ],
   "source": [
    "time_in_seconds = int(input())\n",
    "minutes = time_in_seconds//60\n",
    "hrs = minutes// 60\n",
    "min = minutes%60\n",
    "sec = time_in_seconds%60\n",
    "print(time_in_seconds,'is equivalent to',hrs,'hours',min,'minutes',sec,'seconds')"
   ]
  },
  {
   "cell_type": "code",
   "execution_count": null,
   "metadata": {},
   "outputs": [],
   "source": []
  },
  {
   "cell_type": "code",
   "execution_count": null,
   "metadata": {},
   "outputs": [],
   "source": []
  },
  {
   "cell_type": "markdown",
   "metadata": {},
   "source": [
    "## <> Draw a rectangle with lenght=200 and width=100.\n"
   ]
  },
  {
   "cell_type": "code",
   "execution_count": 46,
   "metadata": {},
   "outputs": [],
   "source": [
    "\n",
    "import matplotlib as mat\n",
    "length = 200\n",
    "breadth= 100\n"
   ]
  },
  {
   "cell_type": "code",
   "execution_count": 52,
   "metadata": {},
   "outputs": [],
   "source": [
    "from turtle import *\n",
    "forward(200)\n",
    "right(90)\n",
    "forward(100)\n",
    "right(90)\n",
    "forward(200)\n",
    "right(90)\n",
    "forward(100)\n",
    "right(90)"
   ]
  },
  {
   "cell_type": "code",
   "execution_count": null,
   "metadata": {},
   "outputs": [],
   "source": []
  },
  {
   "cell_type": "markdown",
   "metadata": {},
   "source": [
    "## <> Write your initial with turtle.\n"
   ]
  },
  {
   "cell_type": "code",
   "execution_count": null,
   "metadata": {},
   "outputs": [],
   "source": []
  },
  {
   "cell_type": "code",
   "execution_count": null,
   "metadata": {},
   "outputs": [],
   "source": []
  },
  {
   "cell_type": "code",
   "execution_count": null,
   "metadata": {},
   "outputs": [],
   "source": []
  },
  {
   "cell_type": "markdown",
   "metadata": {},
   "source": [
    "## <> Write your first name with turtle with each letter of different colors."
   ]
  },
  {
   "cell_type": "code",
   "execution_count": null,
   "metadata": {},
   "outputs": [],
   "source": []
  },
  {
   "cell_type": "code",
   "execution_count": null,
   "metadata": {},
   "outputs": [],
   "source": []
  },
  {
   "cell_type": "code",
   "execution_count": null,
   "metadata": {},
   "outputs": [],
   "source": []
  }
 ],
 "metadata": {
  "kernelspec": {
   "display_name": "Python 3",
   "language": "python",
   "name": "python3"
  },
  "language_info": {
   "codemirror_mode": {
    "name": "ipython",
    "version": 3
   },
   "file_extension": ".py",
   "mimetype": "text/x-python",
   "name": "python",
   "nbconvert_exporter": "python",
   "pygments_lexer": "ipython3",
   "version": "3.8.5"
  }
 },
 "nbformat": 4,
 "nbformat_minor": 4
}
