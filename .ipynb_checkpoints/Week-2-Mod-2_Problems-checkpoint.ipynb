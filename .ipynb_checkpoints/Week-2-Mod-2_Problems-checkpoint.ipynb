{
 "cells": [
  {
   "cell_type": "markdown",
   "metadata": {},
   "source": [
    "## <1> Draw a rectangle with lenght=200 and width=100.\n"
   ]
  },
  {
   "cell_type": "code",
   "execution_count": 53,
   "metadata": {},
   "outputs": [],
   "source": [
    "import turtle as t\n",
    "t.turtlesize(3)\n",
    "t.pensize(6)\n",
    "t.color('red')\n",
    "t.shape('turtle')"
   ]
  },
  {
   "cell_type": "code",
   "execution_count": 42,
   "metadata": {},
   "outputs": [],
   "source": [
    "t.forward(200)\n",
    "t.left(90)\n",
    "t.forward(100)\n",
    "t.left(90)\n",
    "t.forward(200)\n",
    "t.left(90)\n",
    "t.forward(100)"
   ]
  },
  {
   "cell_type": "code",
   "execution_count": 70,
   "metadata": {},
   "outputs": [],
   "source": [
    "t.bye()"
   ]
  },
  {
   "cell_type": "markdown",
   "metadata": {},
   "source": [
    "## <2> Write your initial with turtle.\n"
   ]
  },
  {
   "cell_type": "code",
   "execution_count": 46,
   "metadata": {},
   "outputs": [],
   "source": [
    "t.left(180)\n",
    "t.forward(100)\n",
    "t.left(90)\n",
    "t.forward(50)\n",
    "t.left(90)\n",
    "t.forward(100)\n",
    "t.right(90)\n",
    "t.forward(50)\n",
    "t.right(90)\n",
    "t.forward(100)"
   ]
  },
  {
   "cell_type": "code",
   "execution_count": 48,
   "metadata": {},
   "outputs": [],
   "source": [
    "t.penup()"
   ]
  },
  {
   "cell_type": "code",
   "execution_count": 49,
   "metadata": {},
   "outputs": [],
   "source": [
    "t.left(180)\n",
    "t.forward(300)\n"
   ]
  },
  {
   "cell_type": "code",
   "execution_count": 52,
   "metadata": {},
   "outputs": [],
   "source": [
    "t.pendown()"
   ]
  },
  {
   "cell_type": "code",
   "execution_count": 51,
   "metadata": {},
   "outputs": [],
   "source": [
    "t.forward(100)\n",
    "# it didnot work for me, i tried spyder but my python graphics viewer just won't open.\n",
    "#instead i used a online website called Trinket"
   ]
  },
  {
   "cell_type": "markdown",
   "metadata": {},
   "source": [
    "## <3> Write your first name with turtle with each letter of different colors. Also draw a rectangle around your name. Screenshot your name you just wrote using turtle and post it in slack channel."
   ]
  },
  {
   "cell_type": "code",
   "execution_count": null,
   "metadata": {},
   "outputs": [],
   "source": []
  },
  {
   "cell_type": "code",
   "execution_count": null,
   "metadata": {},
   "outputs": [],
   "source": []
  },
  {
   "cell_type": "markdown",
   "metadata": {},
   "source": [
    "## <4> Write a code to draw a polygon with n (n>3) sides using turlte."
   ]
  },
  {
   "cell_type": "code",
   "execution_count": 67,
   "metadata": {},
   "outputs": [],
   "source": [
    "import turtle as t\n",
    "def my_poly(n):\n",
    "    for i in range(n):\n",
    "        t.forward(100)\n",
    "        t.left(360/n)\n",
    "        \n",
    "    \n",
    "        "
   ]
  },
  {
   "cell_type": "code",
   "execution_count": 69,
   "metadata": {},
   "outputs": [],
   "source": [
    "my_poly(5)"
   ]
  },
  {
   "cell_type": "markdown",
   "metadata": {},
   "source": [
    "## <5> Write a function named polygon that takes n (number of sides) as argument and draw the polygon with n sides."
   ]
  },
  {
   "cell_type": "code",
   "execution_count": null,
   "metadata": {},
   "outputs": [],
   "source": [
    "import turtle as t\n",
    "def my_poly(n):\n",
    "    for i in range(n):\n",
    "        t.forward(100)\n",
    "        t.left(360/n)\n",
    "        "
   ]
  },
  {
   "cell_type": "code",
   "execution_count": null,
   "metadata": {},
   "outputs": [],
   "source": [
    "#betterway\n",
    "import turtle\n",
    "import sys\n",
    "def drawPolygon(num_side,color,length):\n",
    "    if int(num_side) <3:\n",
    "        sys.exit('A Polygon cannot have sides less than 3.')\n",
    "    num_side = int(num_side)\n",
    "    angle = 360/num_side\n",
    "    turtle.pendown()\n",
    "    turtle.color(color)\n",
    "    turtle.pensize(4)\n",
    "    for steps in range(num_side):\n",
    "        turtle.forward(length)\n",
    "        turtle.left(angle)"
   ]
  },
  {
   "cell_type": "code",
   "execution_count": null,
   "metadata": {},
   "outputs": [],
   "source": []
  },
  {
   "cell_type": "markdown",
   "metadata": {},
   "source": [
    "## <6>Print First 10 natural numbers using while loop and for loop."
   ]
  },
  {
   "cell_type": "code",
   "execution_count": 28,
   "metadata": {},
   "outputs": [
    {
     "name": "stdout",
     "output_type": "stream",
     "text": [
      "1\n",
      "2\n",
      "3\n",
      "4\n",
      "5\n",
      "6\n",
      "7\n",
      "8\n",
      "9\n",
      "10\n"
     ]
    }
   ],
   "source": [
    "for i in range(1,11,1):\n",
    "    print(i)"
   ]
  },
  {
   "cell_type": "code",
   "execution_count": 87,
   "metadata": {},
   "outputs": [
    {
     "name": "stdout",
     "output_type": "stream",
     "text": [
      "1\n",
      "2\n",
      "3\n",
      "4\n",
      "5\n",
      "6\n",
      "7\n",
      "8\n",
      "9\n"
     ]
    }
   ],
   "source": [
    "i = 1\n",
    "while i < 10:\n",
    " print(i)\n",
    " i+=1"
   ]
  },
  {
   "cell_type": "code",
   "execution_count": 27,
   "metadata": {},
   "outputs": [
    {
     "name": "stdout",
     "output_type": "stream",
     "text": [
      "1\n",
      "2\n",
      "3\n",
      "4\n",
      "5\n",
      "6\n",
      "7\n",
      "8\n",
      "9\n",
      "10\n"
     ]
    }
   ],
   "source": [
    "#BreakStatement\n",
    "i = 1\n",
    "while i < 11:\n",
    "    print(i)\n",
    "  \n",
    "    if i == 10:\n",
    "        break\n",
    "    i+=1"
   ]
  },
  {
   "cell_type": "code",
   "execution_count": 107,
   "metadata": {},
   "outputs": [
    {
     "name": "stdout",
     "output_type": "stream",
     "text": [
      "1\n",
      "2\n",
      "3\n",
      "4\n",
      "5\n",
      "6\n",
      "7\n",
      "8\n",
      "9\n"
     ]
    }
   ],
   "source": [
    "i = 0\n",
    "while i<10:\n",
    "    i+=1\n",
    "    \n",
    "    if i == 10:\n",
    "       \n",
    "        continue\n",
    "    print(i) "
   ]
  },
  {
   "cell_type": "markdown",
   "metadata": {},
   "source": [
    "## <7>Print the following pattern\n",
    "\n",
    "```1 \n",
    "1 2 \n",
    "1 2 3 \n",
    "1 2 3 4 \n",
    "1 2 3 4 5\n",
    "1 2 3 4 5 6\n",
    "1 2 3 4 5 6 7```"
   ]
  },
  {
   "cell_type": "code",
   "execution_count": 121,
   "metadata": {},
   "outputs": [
    {
     "name": "stdout",
     "output_type": "stream",
     "text": [
      "[0]\n",
      "[0, 1]\n",
      "[0, 1, 2]\n",
      "[0, 1, 2, 3]\n",
      "[0, 1, 2, 3, 4]\n",
      "[0, 1, 2, 3, 4, 5]\n",
      "[0, 1, 2, 3, 4, 5, 6]\n",
      "[0, 1, 2, 3, 4, 5, 6, 7]\n"
     ]
    }
   ],
   "source": [
    "a = []\n",
    "for i in range(8):\n",
    "    a.append(i)\n",
    "    print(a)"
   ]
  },
  {
   "cell_type": "code",
   "execution_count": 31,
   "metadata": {},
   "outputs": [
    {
     "name": "stdout",
     "output_type": "stream",
     "text": [
      "1 \n",
      "\n",
      "1 2 \n",
      "\n",
      "1 2 3 \n",
      "\n",
      "1 2 3 4 \n",
      "\n",
      "1 2 3 4 5 \n",
      "\n",
      "1 2 3 4 5 6 \n",
      "\n",
      "1 2 3 4 5 6 7 \n",
      "\n"
     ]
    }
   ],
   "source": [
    "for i in range(1,8):\n",
    "    for a in range(i):\n",
    "        print(a+1,end=' ')\n",
    "    print('\\n')\n",
    "#watch the indentation of the last line(take care what falls inside of the loop)    "
   ]
  },
  {
   "cell_type": "markdown",
   "metadata": {},
   "source": [
    "## <8>Accept number from user and calculate the sum of all number from 1 to a given number."
   ]
  },
  {
   "cell_type": "code",
   "execution_count": 2,
   "metadata": {},
   "outputs": [
    {
     "name": "stdout",
     "output_type": "stream",
     "text": [
      "enter a number:50\n",
      "The sum of all numbers from 1 to 50 is 1275\n"
     ]
    }
   ],
   "source": [
    "n = int(input('enter a number:'))\n",
    "sum=0\n",
    "for i in range(1,n+1):\n",
    "    sum = sum + i\n",
    "print('The sum of all numbers from 1 to',n,'is',sum)\n",
    "  \n",
    "# pay attention to indentations    \n",
    "    \n",
    "    "
   ]
  },
  {
   "cell_type": "markdown",
   "metadata": {},
   "source": [
    "## <9>Print multiplication table of a given number."
   ]
  },
  {
   "cell_type": "code",
   "execution_count": 4,
   "metadata": {},
   "outputs": [
    {
     "name": "stdout",
     "output_type": "stream",
     "text": [
      "enter a number:8\n",
      "8 times 0 equals to 0\n",
      "8 times 1 equals to 8\n",
      "8 times 2 equals to 16\n",
      "8 times 3 equals to 24\n",
      "8 times 4 equals to 32\n",
      "8 times 5 equals to 40\n",
      "8 times 6 equals to 48\n",
      "8 times 7 equals to 56\n",
      "8 times 8 equals to 64\n",
      "8 times 9 equals to 72\n",
      "8 times 10 equals to 80\n"
     ]
    }
   ],
   "source": [
    "i = int(input('enter a number:'))\n",
    "for n in range(0,11,1):\n",
    "    product = i * n\n",
    "    print(i,'times',n,'equals to',product)"
   ]
  },
  {
   "cell_type": "code",
   "execution_count": 35,
   "metadata": {},
   "outputs": [
    {
     "name": "stdout",
     "output_type": "stream",
     "text": [
      "This program is designed to give you multiplication table of given number,\n",
      " please enter the number :55\n",
      " 55  x   1 =     55\n",
      " 55  x   2 =    110\n",
      " 55  x   3 =    165\n",
      " 55  x   4 =    220\n",
      " 55  x   5 =    275\n",
      " 55  x   6 =    330\n",
      " 55  x   7 =    385\n",
      " 55  x   8 =    440\n",
      " 55  x   9 =    495\n",
      " 55  x  10 =    550\n"
     ]
    }
   ],
   "source": [
    "n = int(input('This program is designed to give you multiplication table of given number,\\n please enter the number :'))\n",
    "for i in range(10):\n",
    "    print('{0:3}  x  {1:2} = {2:6}'.format(n,i+1,n*(i+1)))"
   ]
  },
  {
   "cell_type": "markdown",
   "metadata": {},
   "source": [
    "## <10> Given a list, iterate it, and display numbers divisible by five, and if you find a number greater than 150, stop the loop iteration\n",
    "```number_list = [12, 15, 32, 42, 55, 75, 122, 132, 150, 180, 200]```"
   ]
  },
  {
   "cell_type": "code",
   "execution_count": 16,
   "metadata": {},
   "outputs": [
    {
     "name": "stdout",
     "output_type": "stream",
     "text": [
      "12\n",
      "15\n",
      "32\n",
      "42\n",
      "55\n",
      "75\n",
      "122\n",
      "132\n",
      "150\n",
      "180\n",
      "200\n"
     ]
    }
   ],
   "source": [
    "number_list = [12, 15, 32, 42, 55, 75, 122, 132, 150, 180, 200]\n",
    "\n",
    "for i in number_list:\n",
    "    print(i)\n"
   ]
  },
  {
   "cell_type": "code",
   "execution_count": 24,
   "metadata": {},
   "outputs": [
    {
     "name": "stdout",
     "output_type": "stream",
     "text": [
      "The number 12 isnot divisible by 5 \n",
      "The number 15 is divisible by 5\n",
      "The number 32 isnot divisible by 5 \n",
      "The number 42 isnot divisible by 5 \n",
      "The number 55 is divisible by 5\n",
      "The number 75 is divisible by 5\n",
      "The number 122 isnot divisible by 5 \n",
      "The number 132 isnot divisible by 5 \n",
      "The number 150 is divisible by 5\n",
      "The number 180 is divisible by 5\n",
      "The number 200 is divisible by 5\n"
     ]
    }
   ],
   "source": [
    "for i in number_list:\n",
    "    if i%5==0:\n",
    "        print('The number',i,'is divisible by 5')\n",
    "    \n",
    "    \n",
    "    else:\n",
    "            print('The number',i,'isnot divisible by 5 ')"
   ]
  },
  {
   "cell_type": "code",
   "execution_count": 2,
   "metadata": {},
   "outputs": [
    {
     "name": "stdout",
     "output_type": "stream",
     "text": [
      "The number 12 doesnot fall under desired range.\n",
      "The number 15 is less than 150 and is divisible by 5.\n",
      "The number 32 doesnot fall under desired range.\n",
      "The number 42 doesnot fall under desired range.\n",
      "The number 55 is less than 150 and is divisible by 5.\n",
      "The number 75 is less than 150 and is divisible by 5.\n",
      "The number 122 doesnot fall under desired range.\n",
      "The number 132 doesnot fall under desired range.\n",
      "The number 150 doesnot fall under desired range.\n",
      "The number 180 doesnot fall under desired range.\n",
      "The number 200 doesnot fall under desired range.\n"
     ]
    }
   ],
   "source": [
    "number_list = [12, 15, 32, 42, 55, 75, 122, 132, 150, 180, 200]\n",
    "for i in number_list:\n",
    "    if i < 150 and i%5==0:\n",
    "        print('The number',i,'is less than 150 and is divisible by 5.')\n",
    "        \n",
    "    else:\n",
    "        print('The number',i,'doesnot fall under desired range.')\n",
    "    "
   ]
  },
  {
   "cell_type": "code",
   "execution_count": 3,
   "metadata": {},
   "outputs": [
    {
     "name": "stdout",
     "output_type": "stream",
     "text": [
      "15\n",
      "55\n",
      "75\n"
     ]
    }
   ],
   "source": [
    "number_list = [12, 15, 32, 42, 55, 75, 122, 132, 150, 180, 200]\n",
    "for i in number_list:\n",
    "    if i < 150 and i%5==0:\n",
    "        print(i)\n",
    "        \n",
    "  \n",
    "        "
   ]
  },
  {
   "cell_type": "markdown",
   "metadata": {},
   "source": [
    "## <11> Given a list, iterate it, and display numbers divisible by the number you ask from user.\n",
    "\n",
    "```number_list = [[12, 15, 32], [42, 55, 75], [122, 132, 150, 180, 200]]```"
   ]
  },
  {
   "cell_type": "code",
   "execution_count": 22,
   "metadata": {},
   "outputs": [
    {
     "name": "stdout",
     "output_type": "stream",
     "text": [
      "[12, 15, 32]\n",
      "[42, 55, 75]\n",
      "[122, 132, 150, 180, 200]\n"
     ]
    }
   ],
   "source": [
    "number_list = [[12, 15, 32], [42, 55, 75], [122, 132, 150, 180, 200]]\n",
    "print(number_list[0][0:])\n",
    "print(number_list[1][0:])\n",
    "print(number_list[2][0:])"
   ]
  },
  {
   "cell_type": "code",
   "execution_count": 23,
   "metadata": {},
   "outputs": [
    {
     "name": "stdout",
     "output_type": "stream",
     "text": [
      "[12, 15, 32]\n",
      "[42, 55, 75]\n",
      "[122, 132, 150, 180, 200]\n"
     ]
    }
   ],
   "source": [
    "#n = int(input('Enter a number : ')\n",
    "for i in number_list:\n",
    "    print(i)"
   ]
  },
  {
   "cell_type": "code",
   "execution_count": 37,
   "metadata": {},
   "outputs": [
    {
     "name": "stdout",
     "output_type": "stream",
     "text": [
      "Enter a number of which you wish to find the divisibles in given list:8\n",
      "32\n",
      "200\n"
     ]
    }
   ],
   "source": [
    "n= input('Enter a number of which you wish to find the divisibles in given list:')\n",
    "n=int(n)\n",
    "for i in number_list:\n",
    "    for a in i:\n",
    "        if a%n == 0:\n",
    "            print(a)"
   ]
  },
  {
   "cell_type": "markdown",
   "metadata": {},
   "source": [
    "## <12> Ask user for a whole number and  count the total number of digits in a number. And also don't forget to print the result."
   ]
  },
  {
   "cell_type": "code",
   "execution_count": 41,
   "metadata": {},
   "outputs": [
    {
     "name": "stdout",
     "output_type": "stream",
     "text": [
      "Enter the number : 7546789965\n",
      "The number of digits in 7546789965 is 10\n"
     ]
    }
   ],
   "source": [
    "N = input('Enter the number : ')\n",
    "N = str(N)\n",
    "count = 0\n",
    "for i in N:\n",
    "    count=count+1\n",
    "print(f'The number of digits in {N} is {count}')"
   ]
  },
  {
   "cell_type": "markdown",
   "metadata": {},
   "source": [
    "## <13> Reverse the following list using for loop.\n",
    "```num_list = [0,1,2,3,4,5,6,7,8,9]```  \n",
    "Your resultant list should look like [9,8,7,6,5,4,3,2,1,0].  "
   ]
  },
  {
   "cell_type": "code",
   "execution_count": 48,
   "metadata": {},
   "outputs": [
    {
     "data": {
      "text/plain": [
       "[9, 8, 7, 6, 5, 4, 3, 2, 1, 0]"
      ]
     },
     "execution_count": 48,
     "metadata": {},
     "output_type": "execute_result"
    }
   ],
   "source": [
    "num_list = [0,1,2,3,4,5,6,7,8,9]\n",
    "reverse_list = []\n",
    "\n",
    "for i in num_list :\n",
    "    n = num_list[(-1*(i+1))]\n",
    "    reverse_list.append(n)\n",
    "reverse_list    \n",
    "    \n",
    "    "
   ]
  },
  {
   "cell_type": "markdown",
   "metadata": {},
   "source": [
    "## <14> For immediate above question write a function named reverse that takes a list as input parameter and then returns the reversed list. "
   ]
  },
  {
   "cell_type": "code",
   "execution_count": 58,
   "metadata": {},
   "outputs": [],
   "source": [
    "def rev_lister(l):\n",
    "    reverse_list=[]\n",
    "    for i in l:\n",
    "        n = l[-1*(i+1)]\n",
    "        \n",
    "        reverse_list.append(n)\n",
    "    return reverse_list\n",
    "    \n",
    "    "
   ]
  },
  {
   "cell_type": "code",
   "execution_count": 59,
   "metadata": {},
   "outputs": [
    {
     "data": {
      "text/plain": [
       "[9, 8, 7, 6, 5, 4, 3, 2, 1, 0]"
      ]
     },
     "execution_count": 59,
     "metadata": {},
     "output_type": "execute_result"
    }
   ],
   "source": [
    "rev_lister([0,1,2,3,4,5,6,7,8,9])"
   ]
  },
  {
   "cell_type": "code",
   "execution_count": null,
   "metadata": {},
   "outputs": [],
   "source": [
    "#again\n"
   ]
  }
 ],
 "metadata": {
  "kernelspec": {
   "display_name": "Python 3",
   "language": "python",
   "name": "python3"
  },
  "language_info": {
   "codemirror_mode": {
    "name": "ipython",
    "version": 3
   },
   "file_extension": ".py",
   "mimetype": "text/x-python",
   "name": "python",
   "nbconvert_exporter": "python",
   "pygments_lexer": "ipython3",
   "version": "3.8.5"
  }
 },
 "nbformat": 4,
 "nbformat_minor": 4
}
