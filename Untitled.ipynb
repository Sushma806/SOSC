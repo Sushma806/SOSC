{
 "cells": [
  {
   "cell_type": "code",
   "execution_count": 2,
   "metadata": {},
   "outputs": [
    {
     "name": "stdout",
     "output_type": "stream",
     "text": [
      "0 is an even number\n",
      "3 is an odd number\n",
      "6 is an even number\n",
      "9 is an odd number\n",
      "12 is an even number\n",
      "15 is an odd number\n",
      "18 is an even number\n",
      "21 is an odd number\n",
      "24 is an even number\n",
      "27 is an odd number\n",
      "30 is an even number\n",
      "33 is an odd number\n",
      "36 is an even number\n",
      "39 is an odd number\n",
      "42 is an even number\n",
      "45 is an odd number\n",
      "48 is an even number\n"
     ]
    }
   ],
   "source": [
    "for i in range(0,50,3):\n",
    "    if i%2==0:\n",
    "        print(f'{i} is an even number')\n",
    "        \n",
    "    else:\n",
    "        print(f'{i} is an odd number')"
   ]
  },
  {
   "cell_type": "code",
   "execution_count": 8,
   "metadata": {},
   "outputs": [],
   "source": [
    "def myfunc(i):\n",
    "    \n",
    "        \n",
    "    if i%2==0:\n",
    "        print(i,'is an even number')\n",
    "        \n",
    "    else:\n",
    "        print(i,'is an odd number')"
   ]
  },
  {
   "cell_type": "code",
   "execution_count": 11,
   "metadata": {},
   "outputs": [
    {
     "name": "stdout",
     "output_type": "stream",
     "text": [
      "0 is an even number\n",
      "3 is an odd number\n",
      "6 is an even number\n",
      "9 is an odd number\n",
      "12 is an even number\n",
      "15 is an odd number\n",
      "18 is an even number\n",
      "21 is an odd number\n",
      "24 is an even number\n",
      "27 is an odd number\n",
      "30 is an even number\n",
      "33 is an odd number\n",
      "36 is an even number\n",
      "39 is an odd number\n",
      "42 is an even number\n",
      "45 is an odd number\n",
      "48 is an even number\n"
     ]
    }
   ],
   "source": [
    "for i in range(0,50,3):\n",
    "    myfunc(i)"
   ]
  },
  {
   "cell_type": "markdown",
   "metadata": {},
   "source": [
    "### Task-2"
   ]
  },
  {
   "cell_type": "code",
   "execution_count": null,
   "metadata": {},
   "outputs": [],
   "source": [
    "N="
   ]
  }
 ],
 "metadata": {
  "kernelspec": {
   "display_name": "Python 3",
   "language": "python",
   "name": "python3"
  },
  "language_info": {
   "codemirror_mode": {
    "name": "ipython",
    "version": 3
   },
   "file_extension": ".py",
   "mimetype": "text/x-python",
   "name": "python",
   "nbconvert_exporter": "python",
   "pygments_lexer": "ipython3",
   "version": "3.8.5"
  }
 },
 "nbformat": 4,
 "nbformat_minor": 4
}
